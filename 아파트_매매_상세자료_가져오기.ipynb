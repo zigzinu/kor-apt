{
 "cells": [
  {
   "cell_type": "code",
   "execution_count": 2,
   "metadata": {},
   "outputs": [
    {
     "name": "stdout",
     "output_type": "stream",
     "text": [
      "a\n"
     ]
    }
   ],
   "source": [
    "print('a')"
   ]
  },
  {
   "cell_type": "code",
   "execution_count": 2,
   "metadata": {},
   "outputs": [],
   "source": [
    "serviceKey1 = 'sQwsgvldaHbPewiT8769ArZi4I8qRpizx94P6e55XBwYS1oaUBE%2FpRxt3S8ZbD%2BmsZEgWli3UcbDG0fymkX6pw%3D%3D'\n",
    "serviceKey2 = 'sQwsgvldaHbPewiT8769ArZi4I8qRpizx94P6e55XBwYS1oaUBE/pRxt3S8ZbD+msZEgWli3UcbDG0fymkX6pw=='\n",
    "ymd = '202002'\n",
    "landcode = '11440'\n",
    "numrow = 1000\n",
    "url = 'http://openapi.molit.go.kr/OpenAPI_ToolInstallPackage/service/rest/RTMSOBJSvc/getRTMSDataSvcAptTradeDev?_wadl&type=xml'\n",
    "url2 = f'http://openapi.molit.go.kr/OpenAPI_ToolInstallPackage/service/rest/RTMSOBJSvc/getRTMSDataSvcAptTradeDev?LAWD_CD={landcode}&DEAL_YMD={ymd}&serviceKey={serviceKey1}&numOfRows={numrow}'"
   ]
  },
  {
   "cell_type": "code",
   "execution_count": null,
   "metadata": {},
   "outputs": [],
   "source": [
    "import urllib\n",
    "from bs4 import BeautifulSoup\n",
    "\n",
    "res = urllib.request.urlopen(url2)\n",
    "result = res.read()\n",
    "soup = BeautifulSoup(result, features=\"lxml-xml\")\n",
    "items = soup.findAll('item')"
   ]
  },
  {
   "cell_type": "code",
   "execution_count": 7,
   "metadata": {},
   "outputs": [
    {
     "name": "stdout",
     "output_type": "stream",
     "text": [
      "<item><거래금액>   150,000</거래금액><거래유형> </거래유형><건축년도>2017</건축년도><년>2020</년><도로명>마포대로</도로명><도로명건물본번호코드>00246</도로명건물본번호코드><도로명건물부번호코드>00000</도로명건물부번호코드><도로명시군구코드>11440</도로명시군구코드><도로명일련번호코드>00</도로명일련번호코드><도로명코드>2113001</도로명코드><법정동> 아현동</법정동><법정동본번코드>0802</법정동본번코드><법정동부번코드>0000</법정동부번코드><법정동시군구코드>11440</법정동시군구코드><법정동읍면동코드>10100</법정동읍면동코드><법정동지번코드>1</법정동지번코드><아파트>마포센트럴아이파크</아파트><월>2</월><일>8</일><일련번호>11440-5661</일련번호><전용면적>111.1083</전용면적><중개사소재지> </중개사소재지><지번>802</지번><지역코드>11440</지역코드><층>9</층><해제사유발생일> </해제사유발생일><해제여부> </해제여부></item>\n"
     ]
    }
   ],
   "source": [
    "print(items[0])"
   ]
  },
  {
   "cell_type": "code",
   "execution_count": 8,
   "metadata": {},
   "outputs": [],
   "source": [
    "keylist = [\n",
    "    '거래금액',\n",
    "    '거래유형',\n",
    "    '건축년도',\n",
    "    '년',\n",
    "    '도로명',\n",
    "    '도로명건물본번호코드',\n",
    "    '도로명건물부번호코드',\n",
    "    '도로명시군구코드',\n",
    "    '도로명일련번호코드',\n",
    "    '도로명코드',\n",
    "    '법정동',\n",
    "    '법정동본번코드',\n",
    "    '법정동부번코드',\n",
    "    '법정동시군구코드',\n",
    "    '법정동읍면동코드',\n",
    "    '법정동지번코드',\n",
    "    '아파트',\n",
    "    '월',\n",
    "    '일',\n",
    "    '일련번호',\n",
    "    '전용면적',\n",
    "    '중개사소재지',\n",
    "    '지번',\n",
    "    '지역코드',\n",
    "    '층',\n",
    "    '해제사유발생일',\n",
    "    '해제여부'\n",
    "]"
   ]
  },
  {
   "cell_type": "code",
   "execution_count": 18,
   "metadata": {},
   "outputs": [],
   "source": [
    "itemList = []\n",
    "for i in items:\n",
    "    item = {}\n",
    "\n",
    "    for key in keylist:\n",
    "        item[key] = i.find(key).text\n",
    "    \n",
    "    item['거래금액'] = int(item['거래금액'].replace(',', ''))\n",
    "    item['전용면적'] = float(item['전용면적'])\n",
    "    itemList.append(item)"
   ]
  },
  {
   "cell_type": "code",
   "execution_count": 20,
   "metadata": {},
   "outputs": [
    {
     "name": "stdout",
     "output_type": "stream",
     "text": [
      "{'거래금액': 150000, '거래유형': ' ', '건축년도': '2017', '년': '2020', '도로명': '마포대로', '도로명건물본번호코드': '00246', '도로명건물부번호코드': '00000', '도로명시군구코드': '11440', '도로명일련번호코드': '00', '도로명코드': '2113001', '법정동': ' 아현동', '법정동본번코드': '0802', '법정동부번코드': '0000', '법정동시군구코드': '11440', '법정동읍면동코드': '10100', '법정동지번코드': '1', '아파트': '마포센트럴아이파크', '월': '2', '일': '8', '일련번호': '11440-5661', '전용면적': 111.1083, '중개사소재지': ' ', '지번': '802', '지역코드': '11440', '층': '9', '해제사유발생일': ' ', '해제여부': ' '}\n"
     ]
    }
   ],
   "source": [
    "print(itemList[0])"
   ]
  },
  {
   "cell_type": "code",
   "execution_count": 21,
   "metadata": {},
   "outputs": [
    {
     "name": "stdout",
     "output_type": "stream",
     "text": [
      "214\n"
     ]
    }
   ],
   "source": [
    "print(len(itemList))"
   ]
  },
  {
   "cell_type": "code",
   "execution_count": null,
   "metadata": {},
   "outputs": [],
   "source": []
  }
 ],
 "metadata": {
  "kernelspec": {
   "display_name": "Python 3.9.13 64-bit",
   "language": "python",
   "name": "python3"
  },
  "language_info": {
   "codemirror_mode": {
    "name": "ipython",
    "version": 3
   },
   "file_extension": ".py",
   "mimetype": "text/x-python",
   "name": "python",
   "nbconvert_exporter": "python",
   "pygments_lexer": "ipython3",
   "version": "3.9.13"
  },
  "orig_nbformat": 4,
  "vscode": {
   "interpreter": {
    "hash": "b0fa6594d8f4cbf19f97940f81e996739fb7646882a419484c72d19e05852a7e"
   }
  }
 },
 "nbformat": 4,
 "nbformat_minor": 2
}
